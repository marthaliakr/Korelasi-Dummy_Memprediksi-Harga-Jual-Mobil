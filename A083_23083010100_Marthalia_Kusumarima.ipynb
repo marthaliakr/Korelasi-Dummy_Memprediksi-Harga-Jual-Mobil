{
  "nbformat": 4,
  "nbformat_minor": 0,
  "metadata": {
    "colab": {
      "provenance": []
    },
    "kernelspec": {
      "name": "python3",
      "display_name": "Python 3"
    },
    "language_info": {
      "name": "python"
    }
  },
  "cells": [
    {
      "cell_type": "markdown",
      "source": [
        "Nama : Marthalia Kusumarima\n",
        "\n",
        "NPM : 23083010100\n",
        "\n",
        "Mata Kuliah : Statistika regresi (Korelasi Dummy)"
      ],
      "metadata": {
        "id": "nHdvX1azdicw"
      }
    },
    {
      "cell_type": "code",
      "execution_count": 83,
      "metadata": {
        "colab": {
          "base_uri": "https://localhost:8080/",
          "height": 206
        },
        "id": "Y7QV2Ea0mqz_",
        "outputId": "1db169ec-f327-47f4-d28f-24b367ce75aa"
      },
      "outputs": [
        {
          "output_type": "execute_result",
          "data": {
            "text/plain": [
              "   Negara ke-  Ukuran Mesin  Design Mobil  Harga Jual Mobil\n",
              "0           1           130             1             13495\n",
              "1           2           130             1             16500\n",
              "2           3           152             1             16500\n",
              "3           4           109             1             13950\n",
              "4           5           136             1             17450"
            ],
            "text/html": [
              "\n",
              "  <div id=\"df-cbee94ba-0650-4bfd-8f24-ac5c37623d13\" class=\"colab-df-container\">\n",
              "    <div>\n",
              "<style scoped>\n",
              "    .dataframe tbody tr th:only-of-type {\n",
              "        vertical-align: middle;\n",
              "    }\n",
              "\n",
              "    .dataframe tbody tr th {\n",
              "        vertical-align: top;\n",
              "    }\n",
              "\n",
              "    .dataframe thead th {\n",
              "        text-align: right;\n",
              "    }\n",
              "</style>\n",
              "<table border=\"1\" class=\"dataframe\">\n",
              "  <thead>\n",
              "    <tr style=\"text-align: right;\">\n",
              "      <th></th>\n",
              "      <th>Negara ke-</th>\n",
              "      <th>Ukuran Mesin</th>\n",
              "      <th>Design Mobil</th>\n",
              "      <th>Harga Jual Mobil</th>\n",
              "    </tr>\n",
              "  </thead>\n",
              "  <tbody>\n",
              "    <tr>\n",
              "      <th>0</th>\n",
              "      <td>1</td>\n",
              "      <td>130</td>\n",
              "      <td>1</td>\n",
              "      <td>13495</td>\n",
              "    </tr>\n",
              "    <tr>\n",
              "      <th>1</th>\n",
              "      <td>2</td>\n",
              "      <td>130</td>\n",
              "      <td>1</td>\n",
              "      <td>16500</td>\n",
              "    </tr>\n",
              "    <tr>\n",
              "      <th>2</th>\n",
              "      <td>3</td>\n",
              "      <td>152</td>\n",
              "      <td>1</td>\n",
              "      <td>16500</td>\n",
              "    </tr>\n",
              "    <tr>\n",
              "      <th>3</th>\n",
              "      <td>4</td>\n",
              "      <td>109</td>\n",
              "      <td>1</td>\n",
              "      <td>13950</td>\n",
              "    </tr>\n",
              "    <tr>\n",
              "      <th>4</th>\n",
              "      <td>5</td>\n",
              "      <td>136</td>\n",
              "      <td>1</td>\n",
              "      <td>17450</td>\n",
              "    </tr>\n",
              "  </tbody>\n",
              "</table>\n",
              "</div>\n",
              "    <div class=\"colab-df-buttons\">\n",
              "\n",
              "  <div class=\"colab-df-container\">\n",
              "    <button class=\"colab-df-convert\" onclick=\"convertToInteractive('df-cbee94ba-0650-4bfd-8f24-ac5c37623d13')\"\n",
              "            title=\"Convert this dataframe to an interactive table.\"\n",
              "            style=\"display:none;\">\n",
              "\n",
              "  <svg xmlns=\"http://www.w3.org/2000/svg\" height=\"24px\" viewBox=\"0 -960 960 960\">\n",
              "    <path d=\"M120-120v-720h720v720H120Zm60-500h600v-160H180v160Zm220 220h160v-160H400v160Zm0 220h160v-160H400v160ZM180-400h160v-160H180v160Zm440 0h160v-160H620v160ZM180-180h160v-160H180v160Zm440 0h160v-160H620v160Z\"/>\n",
              "  </svg>\n",
              "    </button>\n",
              "\n",
              "  <style>\n",
              "    .colab-df-container {\n",
              "      display:flex;\n",
              "      gap: 12px;\n",
              "    }\n",
              "\n",
              "    .colab-df-convert {\n",
              "      background-color: #E8F0FE;\n",
              "      border: none;\n",
              "      border-radius: 50%;\n",
              "      cursor: pointer;\n",
              "      display: none;\n",
              "      fill: #1967D2;\n",
              "      height: 32px;\n",
              "      padding: 0 0 0 0;\n",
              "      width: 32px;\n",
              "    }\n",
              "\n",
              "    .colab-df-convert:hover {\n",
              "      background-color: #E2EBFA;\n",
              "      box-shadow: 0px 1px 2px rgba(60, 64, 67, 0.3), 0px 1px 3px 1px rgba(60, 64, 67, 0.15);\n",
              "      fill: #174EA6;\n",
              "    }\n",
              "\n",
              "    .colab-df-buttons div {\n",
              "      margin-bottom: 4px;\n",
              "    }\n",
              "\n",
              "    [theme=dark] .colab-df-convert {\n",
              "      background-color: #3B4455;\n",
              "      fill: #D2E3FC;\n",
              "    }\n",
              "\n",
              "    [theme=dark] .colab-df-convert:hover {\n",
              "      background-color: #434B5C;\n",
              "      box-shadow: 0px 1px 3px 1px rgba(0, 0, 0, 0.15);\n",
              "      filter: drop-shadow(0px 1px 2px rgba(0, 0, 0, 0.3));\n",
              "      fill: #FFFFFF;\n",
              "    }\n",
              "  </style>\n",
              "\n",
              "    <script>\n",
              "      const buttonEl =\n",
              "        document.querySelector('#df-cbee94ba-0650-4bfd-8f24-ac5c37623d13 button.colab-df-convert');\n",
              "      buttonEl.style.display =\n",
              "        google.colab.kernel.accessAllowed ? 'block' : 'none';\n",
              "\n",
              "      async function convertToInteractive(key) {\n",
              "        const element = document.querySelector('#df-cbee94ba-0650-4bfd-8f24-ac5c37623d13');\n",
              "        const dataTable =\n",
              "          await google.colab.kernel.invokeFunction('convertToInteractive',\n",
              "                                                    [key], {});\n",
              "        if (!dataTable) return;\n",
              "\n",
              "        const docLinkHtml = 'Like what you see? Visit the ' +\n",
              "          '<a target=\"_blank\" href=https://colab.research.google.com/notebooks/data_table.ipynb>data table notebook</a>'\n",
              "          + ' to learn more about interactive tables.';\n",
              "        element.innerHTML = '';\n",
              "        dataTable['output_type'] = 'display_data';\n",
              "        await google.colab.output.renderOutput(dataTable, element);\n",
              "        const docLink = document.createElement('div');\n",
              "        docLink.innerHTML = docLinkHtml;\n",
              "        element.appendChild(docLink);\n",
              "      }\n",
              "    </script>\n",
              "  </div>\n",
              "\n",
              "\n",
              "<div id=\"df-ccce00a7-bb38-42b6-9293-5f8110ad8a99\">\n",
              "  <button class=\"colab-df-quickchart\" onclick=\"quickchart('df-ccce00a7-bb38-42b6-9293-5f8110ad8a99')\"\n",
              "            title=\"Suggest charts\"\n",
              "            style=\"display:none;\">\n",
              "\n",
              "<svg xmlns=\"http://www.w3.org/2000/svg\" height=\"24px\"viewBox=\"0 0 24 24\"\n",
              "     width=\"24px\">\n",
              "    <g>\n",
              "        <path d=\"M19 3H5c-1.1 0-2 .9-2 2v14c0 1.1.9 2 2 2h14c1.1 0 2-.9 2-2V5c0-1.1-.9-2-2-2zM9 17H7v-7h2v7zm4 0h-2V7h2v10zm4 0h-2v-4h2v4z\"/>\n",
              "    </g>\n",
              "</svg>\n",
              "  </button>\n",
              "\n",
              "<style>\n",
              "  .colab-df-quickchart {\n",
              "      --bg-color: #E8F0FE;\n",
              "      --fill-color: #1967D2;\n",
              "      --hover-bg-color: #E2EBFA;\n",
              "      --hover-fill-color: #174EA6;\n",
              "      --disabled-fill-color: #AAA;\n",
              "      --disabled-bg-color: #DDD;\n",
              "  }\n",
              "\n",
              "  [theme=dark] .colab-df-quickchart {\n",
              "      --bg-color: #3B4455;\n",
              "      --fill-color: #D2E3FC;\n",
              "      --hover-bg-color: #434B5C;\n",
              "      --hover-fill-color: #FFFFFF;\n",
              "      --disabled-bg-color: #3B4455;\n",
              "      --disabled-fill-color: #666;\n",
              "  }\n",
              "\n",
              "  .colab-df-quickchart {\n",
              "    background-color: var(--bg-color);\n",
              "    border: none;\n",
              "    border-radius: 50%;\n",
              "    cursor: pointer;\n",
              "    display: none;\n",
              "    fill: var(--fill-color);\n",
              "    height: 32px;\n",
              "    padding: 0;\n",
              "    width: 32px;\n",
              "  }\n",
              "\n",
              "  .colab-df-quickchart:hover {\n",
              "    background-color: var(--hover-bg-color);\n",
              "    box-shadow: 0 1px 2px rgba(60, 64, 67, 0.3), 0 1px 3px 1px rgba(60, 64, 67, 0.15);\n",
              "    fill: var(--button-hover-fill-color);\n",
              "  }\n",
              "\n",
              "  .colab-df-quickchart-complete:disabled,\n",
              "  .colab-df-quickchart-complete:disabled:hover {\n",
              "    background-color: var(--disabled-bg-color);\n",
              "    fill: var(--disabled-fill-color);\n",
              "    box-shadow: none;\n",
              "  }\n",
              "\n",
              "  .colab-df-spinner {\n",
              "    border: 2px solid var(--fill-color);\n",
              "    border-color: transparent;\n",
              "    border-bottom-color: var(--fill-color);\n",
              "    animation:\n",
              "      spin 1s steps(1) infinite;\n",
              "  }\n",
              "\n",
              "  @keyframes spin {\n",
              "    0% {\n",
              "      border-color: transparent;\n",
              "      border-bottom-color: var(--fill-color);\n",
              "      border-left-color: var(--fill-color);\n",
              "    }\n",
              "    20% {\n",
              "      border-color: transparent;\n",
              "      border-left-color: var(--fill-color);\n",
              "      border-top-color: var(--fill-color);\n",
              "    }\n",
              "    30% {\n",
              "      border-color: transparent;\n",
              "      border-left-color: var(--fill-color);\n",
              "      border-top-color: var(--fill-color);\n",
              "      border-right-color: var(--fill-color);\n",
              "    }\n",
              "    40% {\n",
              "      border-color: transparent;\n",
              "      border-right-color: var(--fill-color);\n",
              "      border-top-color: var(--fill-color);\n",
              "    }\n",
              "    60% {\n",
              "      border-color: transparent;\n",
              "      border-right-color: var(--fill-color);\n",
              "    }\n",
              "    80% {\n",
              "      border-color: transparent;\n",
              "      border-right-color: var(--fill-color);\n",
              "      border-bottom-color: var(--fill-color);\n",
              "    }\n",
              "    90% {\n",
              "      border-color: transparent;\n",
              "      border-bottom-color: var(--fill-color);\n",
              "    }\n",
              "  }\n",
              "</style>\n",
              "\n",
              "  <script>\n",
              "    async function quickchart(key) {\n",
              "      const quickchartButtonEl =\n",
              "        document.querySelector('#' + key + ' button');\n",
              "      quickchartButtonEl.disabled = true;  // To prevent multiple clicks.\n",
              "      quickchartButtonEl.classList.add('colab-df-spinner');\n",
              "      try {\n",
              "        const charts = await google.colab.kernel.invokeFunction(\n",
              "            'suggestCharts', [key], {});\n",
              "      } catch (error) {\n",
              "        console.error('Error during call to suggestCharts:', error);\n",
              "      }\n",
              "      quickchartButtonEl.classList.remove('colab-df-spinner');\n",
              "      quickchartButtonEl.classList.add('colab-df-quickchart-complete');\n",
              "    }\n",
              "    (() => {\n",
              "      let quickchartButtonEl =\n",
              "        document.querySelector('#df-ccce00a7-bb38-42b6-9293-5f8110ad8a99 button');\n",
              "      quickchartButtonEl.style.display =\n",
              "        google.colab.kernel.accessAllowed ? 'block' : 'none';\n",
              "    })();\n",
              "  </script>\n",
              "</div>\n",
              "\n",
              "    </div>\n",
              "  </div>\n"
            ],
            "application/vnd.google.colaboratory.intrinsic+json": {
              "type": "dataframe",
              "variable_name": "df",
              "summary": "{\n  \"name\": \"df\",\n  \"rows\": 40,\n  \"fields\": [\n    {\n      \"column\": \"Negara ke-\",\n      \"properties\": {\n        \"dtype\": \"number\",\n        \"std\": 11,\n        \"min\": 1,\n        \"max\": 40,\n        \"num_unique_values\": 40,\n        \"samples\": [\n          20,\n          17,\n          16\n        ],\n        \"semantic_type\": \"\",\n        \"description\": \"\"\n      }\n    },\n    {\n      \"column\": \"Ukuran Mesin\",\n      \"properties\": {\n        \"dtype\": \"number\",\n        \"std\": 36,\n        \"min\": 61,\n        \"max\": 209,\n        \"num_unique_values\": 16,\n        \"samples\": [\n          130,\n          152,\n          108\n        ],\n        \"semantic_type\": \"\",\n        \"description\": \"\"\n      }\n    },\n    {\n      \"column\": \"Design Mobil\",\n      \"properties\": {\n        \"dtype\": \"number\",\n        \"std\": 0,\n        \"min\": 0,\n        \"max\": 1,\n        \"num_unique_values\": 2,\n        \"samples\": [\n          0,\n          1\n        ],\n        \"semantic_type\": \"\",\n        \"description\": \"\"\n      }\n    },\n    {\n      \"column\": \"Harga Jual Mobil\",\n      \"properties\": {\n        \"dtype\": \"number\",\n        \"std\": 8722,\n        \"min\": 5151,\n        \"max\": 41315,\n        \"num_unique_values\": 38,\n        \"samples\": [\n          7295,\n          8845\n        ],\n        \"semantic_type\": \"\",\n        \"description\": \"\"\n      }\n    }\n  ]\n}"
            }
          },
          "metadata": {},
          "execution_count": 83
        }
      ],
      "source": [
        "# Memanggil Database\n",
        "import pandas as pd\n",
        "df = pd.read_excel('/content/data harga jual mobil.xlsx')\n",
        "df.head()"
      ]
    },
    {
      "cell_type": "code",
      "source": [
        "# Mengganti nama variabel\n",
        "df.rename(columns={'Ukuran Mesin': 'X1', 'Design Mobil': 'X2', 'Harga Jual Mobil': 'Y'}, inplace=True)\n",
        "df.head()"
      ],
      "metadata": {
        "colab": {
          "base_uri": "https://localhost:8080/",
          "height": 206
        },
        "id": "eFBfH5LxqtD7",
        "outputId": "9040e3b6-ebf1-4082-d7c6-3f7a53cd6b91"
      },
      "execution_count": 84,
      "outputs": [
        {
          "output_type": "execute_result",
          "data": {
            "text/plain": [
              "   Negara ke-   X1  X2      Y\n",
              "0           1  130   1  13495\n",
              "1           2  130   1  16500\n",
              "2           3  152   1  16500\n",
              "3           4  109   1  13950\n",
              "4           5  136   1  17450"
            ],
            "text/html": [
              "\n",
              "  <div id=\"df-11ef0e33-1024-42d0-ba81-28eda7dba3f1\" class=\"colab-df-container\">\n",
              "    <div>\n",
              "<style scoped>\n",
              "    .dataframe tbody tr th:only-of-type {\n",
              "        vertical-align: middle;\n",
              "    }\n",
              "\n",
              "    .dataframe tbody tr th {\n",
              "        vertical-align: top;\n",
              "    }\n",
              "\n",
              "    .dataframe thead th {\n",
              "        text-align: right;\n",
              "    }\n",
              "</style>\n",
              "<table border=\"1\" class=\"dataframe\">\n",
              "  <thead>\n",
              "    <tr style=\"text-align: right;\">\n",
              "      <th></th>\n",
              "      <th>Negara ke-</th>\n",
              "      <th>X1</th>\n",
              "      <th>X2</th>\n",
              "      <th>Y</th>\n",
              "    </tr>\n",
              "  </thead>\n",
              "  <tbody>\n",
              "    <tr>\n",
              "      <th>0</th>\n",
              "      <td>1</td>\n",
              "      <td>130</td>\n",
              "      <td>1</td>\n",
              "      <td>13495</td>\n",
              "    </tr>\n",
              "    <tr>\n",
              "      <th>1</th>\n",
              "      <td>2</td>\n",
              "      <td>130</td>\n",
              "      <td>1</td>\n",
              "      <td>16500</td>\n",
              "    </tr>\n",
              "    <tr>\n",
              "      <th>2</th>\n",
              "      <td>3</td>\n",
              "      <td>152</td>\n",
              "      <td>1</td>\n",
              "      <td>16500</td>\n",
              "    </tr>\n",
              "    <tr>\n",
              "      <th>3</th>\n",
              "      <td>4</td>\n",
              "      <td>109</td>\n",
              "      <td>1</td>\n",
              "      <td>13950</td>\n",
              "    </tr>\n",
              "    <tr>\n",
              "      <th>4</th>\n",
              "      <td>5</td>\n",
              "      <td>136</td>\n",
              "      <td>1</td>\n",
              "      <td>17450</td>\n",
              "    </tr>\n",
              "  </tbody>\n",
              "</table>\n",
              "</div>\n",
              "    <div class=\"colab-df-buttons\">\n",
              "\n",
              "  <div class=\"colab-df-container\">\n",
              "    <button class=\"colab-df-convert\" onclick=\"convertToInteractive('df-11ef0e33-1024-42d0-ba81-28eda7dba3f1')\"\n",
              "            title=\"Convert this dataframe to an interactive table.\"\n",
              "            style=\"display:none;\">\n",
              "\n",
              "  <svg xmlns=\"http://www.w3.org/2000/svg\" height=\"24px\" viewBox=\"0 -960 960 960\">\n",
              "    <path d=\"M120-120v-720h720v720H120Zm60-500h600v-160H180v160Zm220 220h160v-160H400v160Zm0 220h160v-160H400v160ZM180-400h160v-160H180v160Zm440 0h160v-160H620v160ZM180-180h160v-160H180v160Zm440 0h160v-160H620v160Z\"/>\n",
              "  </svg>\n",
              "    </button>\n",
              "\n",
              "  <style>\n",
              "    .colab-df-container {\n",
              "      display:flex;\n",
              "      gap: 12px;\n",
              "    }\n",
              "\n",
              "    .colab-df-convert {\n",
              "      background-color: #E8F0FE;\n",
              "      border: none;\n",
              "      border-radius: 50%;\n",
              "      cursor: pointer;\n",
              "      display: none;\n",
              "      fill: #1967D2;\n",
              "      height: 32px;\n",
              "      padding: 0 0 0 0;\n",
              "      width: 32px;\n",
              "    }\n",
              "\n",
              "    .colab-df-convert:hover {\n",
              "      background-color: #E2EBFA;\n",
              "      box-shadow: 0px 1px 2px rgba(60, 64, 67, 0.3), 0px 1px 3px 1px rgba(60, 64, 67, 0.15);\n",
              "      fill: #174EA6;\n",
              "    }\n",
              "\n",
              "    .colab-df-buttons div {\n",
              "      margin-bottom: 4px;\n",
              "    }\n",
              "\n",
              "    [theme=dark] .colab-df-convert {\n",
              "      background-color: #3B4455;\n",
              "      fill: #D2E3FC;\n",
              "    }\n",
              "\n",
              "    [theme=dark] .colab-df-convert:hover {\n",
              "      background-color: #434B5C;\n",
              "      box-shadow: 0px 1px 3px 1px rgba(0, 0, 0, 0.15);\n",
              "      filter: drop-shadow(0px 1px 2px rgba(0, 0, 0, 0.3));\n",
              "      fill: #FFFFFF;\n",
              "    }\n",
              "  </style>\n",
              "\n",
              "    <script>\n",
              "      const buttonEl =\n",
              "        document.querySelector('#df-11ef0e33-1024-42d0-ba81-28eda7dba3f1 button.colab-df-convert');\n",
              "      buttonEl.style.display =\n",
              "        google.colab.kernel.accessAllowed ? 'block' : 'none';\n",
              "\n",
              "      async function convertToInteractive(key) {\n",
              "        const element = document.querySelector('#df-11ef0e33-1024-42d0-ba81-28eda7dba3f1');\n",
              "        const dataTable =\n",
              "          await google.colab.kernel.invokeFunction('convertToInteractive',\n",
              "                                                    [key], {});\n",
              "        if (!dataTable) return;\n",
              "\n",
              "        const docLinkHtml = 'Like what you see? Visit the ' +\n",
              "          '<a target=\"_blank\" href=https://colab.research.google.com/notebooks/data_table.ipynb>data table notebook</a>'\n",
              "          + ' to learn more about interactive tables.';\n",
              "        element.innerHTML = '';\n",
              "        dataTable['output_type'] = 'display_data';\n",
              "        await google.colab.output.renderOutput(dataTable, element);\n",
              "        const docLink = document.createElement('div');\n",
              "        docLink.innerHTML = docLinkHtml;\n",
              "        element.appendChild(docLink);\n",
              "      }\n",
              "    </script>\n",
              "  </div>\n",
              "\n",
              "\n",
              "<div id=\"df-0023dac7-dd27-435e-8a18-2e4f35295127\">\n",
              "  <button class=\"colab-df-quickchart\" onclick=\"quickchart('df-0023dac7-dd27-435e-8a18-2e4f35295127')\"\n",
              "            title=\"Suggest charts\"\n",
              "            style=\"display:none;\">\n",
              "\n",
              "<svg xmlns=\"http://www.w3.org/2000/svg\" height=\"24px\"viewBox=\"0 0 24 24\"\n",
              "     width=\"24px\">\n",
              "    <g>\n",
              "        <path d=\"M19 3H5c-1.1 0-2 .9-2 2v14c0 1.1.9 2 2 2h14c1.1 0 2-.9 2-2V5c0-1.1-.9-2-2-2zM9 17H7v-7h2v7zm4 0h-2V7h2v10zm4 0h-2v-4h2v4z\"/>\n",
              "    </g>\n",
              "</svg>\n",
              "  </button>\n",
              "\n",
              "<style>\n",
              "  .colab-df-quickchart {\n",
              "      --bg-color: #E8F0FE;\n",
              "      --fill-color: #1967D2;\n",
              "      --hover-bg-color: #E2EBFA;\n",
              "      --hover-fill-color: #174EA6;\n",
              "      --disabled-fill-color: #AAA;\n",
              "      --disabled-bg-color: #DDD;\n",
              "  }\n",
              "\n",
              "  [theme=dark] .colab-df-quickchart {\n",
              "      --bg-color: #3B4455;\n",
              "      --fill-color: #D2E3FC;\n",
              "      --hover-bg-color: #434B5C;\n",
              "      --hover-fill-color: #FFFFFF;\n",
              "      --disabled-bg-color: #3B4455;\n",
              "      --disabled-fill-color: #666;\n",
              "  }\n",
              "\n",
              "  .colab-df-quickchart {\n",
              "    background-color: var(--bg-color);\n",
              "    border: none;\n",
              "    border-radius: 50%;\n",
              "    cursor: pointer;\n",
              "    display: none;\n",
              "    fill: var(--fill-color);\n",
              "    height: 32px;\n",
              "    padding: 0;\n",
              "    width: 32px;\n",
              "  }\n",
              "\n",
              "  .colab-df-quickchart:hover {\n",
              "    background-color: var(--hover-bg-color);\n",
              "    box-shadow: 0 1px 2px rgba(60, 64, 67, 0.3), 0 1px 3px 1px rgba(60, 64, 67, 0.15);\n",
              "    fill: var(--button-hover-fill-color);\n",
              "  }\n",
              "\n",
              "  .colab-df-quickchart-complete:disabled,\n",
              "  .colab-df-quickchart-complete:disabled:hover {\n",
              "    background-color: var(--disabled-bg-color);\n",
              "    fill: var(--disabled-fill-color);\n",
              "    box-shadow: none;\n",
              "  }\n",
              "\n",
              "  .colab-df-spinner {\n",
              "    border: 2px solid var(--fill-color);\n",
              "    border-color: transparent;\n",
              "    border-bottom-color: var(--fill-color);\n",
              "    animation:\n",
              "      spin 1s steps(1) infinite;\n",
              "  }\n",
              "\n",
              "  @keyframes spin {\n",
              "    0% {\n",
              "      border-color: transparent;\n",
              "      border-bottom-color: var(--fill-color);\n",
              "      border-left-color: var(--fill-color);\n",
              "    }\n",
              "    20% {\n",
              "      border-color: transparent;\n",
              "      border-left-color: var(--fill-color);\n",
              "      border-top-color: var(--fill-color);\n",
              "    }\n",
              "    30% {\n",
              "      border-color: transparent;\n",
              "      border-left-color: var(--fill-color);\n",
              "      border-top-color: var(--fill-color);\n",
              "      border-right-color: var(--fill-color);\n",
              "    }\n",
              "    40% {\n",
              "      border-color: transparent;\n",
              "      border-right-color: var(--fill-color);\n",
              "      border-top-color: var(--fill-color);\n",
              "    }\n",
              "    60% {\n",
              "      border-color: transparent;\n",
              "      border-right-color: var(--fill-color);\n",
              "    }\n",
              "    80% {\n",
              "      border-color: transparent;\n",
              "      border-right-color: var(--fill-color);\n",
              "      border-bottom-color: var(--fill-color);\n",
              "    }\n",
              "    90% {\n",
              "      border-color: transparent;\n",
              "      border-bottom-color: var(--fill-color);\n",
              "    }\n",
              "  }\n",
              "</style>\n",
              "\n",
              "  <script>\n",
              "    async function quickchart(key) {\n",
              "      const quickchartButtonEl =\n",
              "        document.querySelector('#' + key + ' button');\n",
              "      quickchartButtonEl.disabled = true;  // To prevent multiple clicks.\n",
              "      quickchartButtonEl.classList.add('colab-df-spinner');\n",
              "      try {\n",
              "        const charts = await google.colab.kernel.invokeFunction(\n",
              "            'suggestCharts', [key], {});\n",
              "      } catch (error) {\n",
              "        console.error('Error during call to suggestCharts:', error);\n",
              "      }\n",
              "      quickchartButtonEl.classList.remove('colab-df-spinner');\n",
              "      quickchartButtonEl.classList.add('colab-df-quickchart-complete');\n",
              "    }\n",
              "    (() => {\n",
              "      let quickchartButtonEl =\n",
              "        document.querySelector('#df-0023dac7-dd27-435e-8a18-2e4f35295127 button');\n",
              "      quickchartButtonEl.style.display =\n",
              "        google.colab.kernel.accessAllowed ? 'block' : 'none';\n",
              "    })();\n",
              "  </script>\n",
              "</div>\n",
              "\n",
              "    </div>\n",
              "  </div>\n"
            ],
            "application/vnd.google.colaboratory.intrinsic+json": {
              "type": "dataframe",
              "variable_name": "df",
              "summary": "{\n  \"name\": \"df\",\n  \"rows\": 40,\n  \"fields\": [\n    {\n      \"column\": \"Negara ke-\",\n      \"properties\": {\n        \"dtype\": \"number\",\n        \"std\": 11,\n        \"min\": 1,\n        \"max\": 40,\n        \"num_unique_values\": 40,\n        \"samples\": [\n          20,\n          17,\n          16\n        ],\n        \"semantic_type\": \"\",\n        \"description\": \"\"\n      }\n    },\n    {\n      \"column\": \"X1\",\n      \"properties\": {\n        \"dtype\": \"number\",\n        \"std\": 36,\n        \"min\": 61,\n        \"max\": 209,\n        \"num_unique_values\": 16,\n        \"samples\": [\n          130,\n          152,\n          108\n        ],\n        \"semantic_type\": \"\",\n        \"description\": \"\"\n      }\n    },\n    {\n      \"column\": \"X2\",\n      \"properties\": {\n        \"dtype\": \"number\",\n        \"std\": 0,\n        \"min\": 0,\n        \"max\": 1,\n        \"num_unique_values\": 2,\n        \"samples\": [\n          0,\n          1\n        ],\n        \"semantic_type\": \"\",\n        \"description\": \"\"\n      }\n    },\n    {\n      \"column\": \"Y\",\n      \"properties\": {\n        \"dtype\": \"number\",\n        \"std\": 8722,\n        \"min\": 5151,\n        \"max\": 41315,\n        \"num_unique_values\": 38,\n        \"samples\": [\n          7295,\n          8845\n        ],\n        \"semantic_type\": \"\",\n        \"description\": \"\"\n      }\n    }\n  ]\n}"
            }
          },
          "metadata": {},
          "execution_count": 84
        }
      ]
    },
    {
      "cell_type": "code",
      "source": [
        "df.tail()"
      ],
      "metadata": {
        "colab": {
          "base_uri": "https://localhost:8080/",
          "height": 206
        },
        "id": "Z9vR1Xd-T_8l",
        "outputId": "55047237-78d3-4751-9b19-46c271dbe047"
      },
      "execution_count": 85,
      "outputs": [
        {
          "output_type": "execute_result",
          "data": {
            "text/plain": [
              "    Negara ke-   X1  X2      Y\n",
              "35          36   92   0   7295\n",
              "36          37  110   0   7895\n",
              "37          38  110   0   9095\n",
              "38          39  110   0   8845\n",
              "39          40  110   1  10295"
            ],
            "text/html": [
              "\n",
              "  <div id=\"df-06973c4e-df43-4935-8f94-337002a5b5ab\" class=\"colab-df-container\">\n",
              "    <div>\n",
              "<style scoped>\n",
              "    .dataframe tbody tr th:only-of-type {\n",
              "        vertical-align: middle;\n",
              "    }\n",
              "\n",
              "    .dataframe tbody tr th {\n",
              "        vertical-align: top;\n",
              "    }\n",
              "\n",
              "    .dataframe thead th {\n",
              "        text-align: right;\n",
              "    }\n",
              "</style>\n",
              "<table border=\"1\" class=\"dataframe\">\n",
              "  <thead>\n",
              "    <tr style=\"text-align: right;\">\n",
              "      <th></th>\n",
              "      <th>Negara ke-</th>\n",
              "      <th>X1</th>\n",
              "      <th>X2</th>\n",
              "      <th>Y</th>\n",
              "    </tr>\n",
              "  </thead>\n",
              "  <tbody>\n",
              "    <tr>\n",
              "      <th>35</th>\n",
              "      <td>36</td>\n",
              "      <td>92</td>\n",
              "      <td>0</td>\n",
              "      <td>7295</td>\n",
              "    </tr>\n",
              "    <tr>\n",
              "      <th>36</th>\n",
              "      <td>37</td>\n",
              "      <td>110</td>\n",
              "      <td>0</td>\n",
              "      <td>7895</td>\n",
              "    </tr>\n",
              "    <tr>\n",
              "      <th>37</th>\n",
              "      <td>38</td>\n",
              "      <td>110</td>\n",
              "      <td>0</td>\n",
              "      <td>9095</td>\n",
              "    </tr>\n",
              "    <tr>\n",
              "      <th>38</th>\n",
              "      <td>39</td>\n",
              "      <td>110</td>\n",
              "      <td>0</td>\n",
              "      <td>8845</td>\n",
              "    </tr>\n",
              "    <tr>\n",
              "      <th>39</th>\n",
              "      <td>40</td>\n",
              "      <td>110</td>\n",
              "      <td>1</td>\n",
              "      <td>10295</td>\n",
              "    </tr>\n",
              "  </tbody>\n",
              "</table>\n",
              "</div>\n",
              "    <div class=\"colab-df-buttons\">\n",
              "\n",
              "  <div class=\"colab-df-container\">\n",
              "    <button class=\"colab-df-convert\" onclick=\"convertToInteractive('df-06973c4e-df43-4935-8f94-337002a5b5ab')\"\n",
              "            title=\"Convert this dataframe to an interactive table.\"\n",
              "            style=\"display:none;\">\n",
              "\n",
              "  <svg xmlns=\"http://www.w3.org/2000/svg\" height=\"24px\" viewBox=\"0 -960 960 960\">\n",
              "    <path d=\"M120-120v-720h720v720H120Zm60-500h600v-160H180v160Zm220 220h160v-160H400v160Zm0 220h160v-160H400v160ZM180-400h160v-160H180v160Zm440 0h160v-160H620v160ZM180-180h160v-160H180v160Zm440 0h160v-160H620v160Z\"/>\n",
              "  </svg>\n",
              "    </button>\n",
              "\n",
              "  <style>\n",
              "    .colab-df-container {\n",
              "      display:flex;\n",
              "      gap: 12px;\n",
              "    }\n",
              "\n",
              "    .colab-df-convert {\n",
              "      background-color: #E8F0FE;\n",
              "      border: none;\n",
              "      border-radius: 50%;\n",
              "      cursor: pointer;\n",
              "      display: none;\n",
              "      fill: #1967D2;\n",
              "      height: 32px;\n",
              "      padding: 0 0 0 0;\n",
              "      width: 32px;\n",
              "    }\n",
              "\n",
              "    .colab-df-convert:hover {\n",
              "      background-color: #E2EBFA;\n",
              "      box-shadow: 0px 1px 2px rgba(60, 64, 67, 0.3), 0px 1px 3px 1px rgba(60, 64, 67, 0.15);\n",
              "      fill: #174EA6;\n",
              "    }\n",
              "\n",
              "    .colab-df-buttons div {\n",
              "      margin-bottom: 4px;\n",
              "    }\n",
              "\n",
              "    [theme=dark] .colab-df-convert {\n",
              "      background-color: #3B4455;\n",
              "      fill: #D2E3FC;\n",
              "    }\n",
              "\n",
              "    [theme=dark] .colab-df-convert:hover {\n",
              "      background-color: #434B5C;\n",
              "      box-shadow: 0px 1px 3px 1px rgba(0, 0, 0, 0.15);\n",
              "      filter: drop-shadow(0px 1px 2px rgba(0, 0, 0, 0.3));\n",
              "      fill: #FFFFFF;\n",
              "    }\n",
              "  </style>\n",
              "\n",
              "    <script>\n",
              "      const buttonEl =\n",
              "        document.querySelector('#df-06973c4e-df43-4935-8f94-337002a5b5ab button.colab-df-convert');\n",
              "      buttonEl.style.display =\n",
              "        google.colab.kernel.accessAllowed ? 'block' : 'none';\n",
              "\n",
              "      async function convertToInteractive(key) {\n",
              "        const element = document.querySelector('#df-06973c4e-df43-4935-8f94-337002a5b5ab');\n",
              "        const dataTable =\n",
              "          await google.colab.kernel.invokeFunction('convertToInteractive',\n",
              "                                                    [key], {});\n",
              "        if (!dataTable) return;\n",
              "\n",
              "        const docLinkHtml = 'Like what you see? Visit the ' +\n",
              "          '<a target=\"_blank\" href=https://colab.research.google.com/notebooks/data_table.ipynb>data table notebook</a>'\n",
              "          + ' to learn more about interactive tables.';\n",
              "        element.innerHTML = '';\n",
              "        dataTable['output_type'] = 'display_data';\n",
              "        await google.colab.output.renderOutput(dataTable, element);\n",
              "        const docLink = document.createElement('div');\n",
              "        docLink.innerHTML = docLinkHtml;\n",
              "        element.appendChild(docLink);\n",
              "      }\n",
              "    </script>\n",
              "  </div>\n",
              "\n",
              "\n",
              "<div id=\"df-fd633136-cd9c-4788-9a2e-bb60843b39dd\">\n",
              "  <button class=\"colab-df-quickchart\" onclick=\"quickchart('df-fd633136-cd9c-4788-9a2e-bb60843b39dd')\"\n",
              "            title=\"Suggest charts\"\n",
              "            style=\"display:none;\">\n",
              "\n",
              "<svg xmlns=\"http://www.w3.org/2000/svg\" height=\"24px\"viewBox=\"0 0 24 24\"\n",
              "     width=\"24px\">\n",
              "    <g>\n",
              "        <path d=\"M19 3H5c-1.1 0-2 .9-2 2v14c0 1.1.9 2 2 2h14c1.1 0 2-.9 2-2V5c0-1.1-.9-2-2-2zM9 17H7v-7h2v7zm4 0h-2V7h2v10zm4 0h-2v-4h2v4z\"/>\n",
              "    </g>\n",
              "</svg>\n",
              "  </button>\n",
              "\n",
              "<style>\n",
              "  .colab-df-quickchart {\n",
              "      --bg-color: #E8F0FE;\n",
              "      --fill-color: #1967D2;\n",
              "      --hover-bg-color: #E2EBFA;\n",
              "      --hover-fill-color: #174EA6;\n",
              "      --disabled-fill-color: #AAA;\n",
              "      --disabled-bg-color: #DDD;\n",
              "  }\n",
              "\n",
              "  [theme=dark] .colab-df-quickchart {\n",
              "      --bg-color: #3B4455;\n",
              "      --fill-color: #D2E3FC;\n",
              "      --hover-bg-color: #434B5C;\n",
              "      --hover-fill-color: #FFFFFF;\n",
              "      --disabled-bg-color: #3B4455;\n",
              "      --disabled-fill-color: #666;\n",
              "  }\n",
              "\n",
              "  .colab-df-quickchart {\n",
              "    background-color: var(--bg-color);\n",
              "    border: none;\n",
              "    border-radius: 50%;\n",
              "    cursor: pointer;\n",
              "    display: none;\n",
              "    fill: var(--fill-color);\n",
              "    height: 32px;\n",
              "    padding: 0;\n",
              "    width: 32px;\n",
              "  }\n",
              "\n",
              "  .colab-df-quickchart:hover {\n",
              "    background-color: var(--hover-bg-color);\n",
              "    box-shadow: 0 1px 2px rgba(60, 64, 67, 0.3), 0 1px 3px 1px rgba(60, 64, 67, 0.15);\n",
              "    fill: var(--button-hover-fill-color);\n",
              "  }\n",
              "\n",
              "  .colab-df-quickchart-complete:disabled,\n",
              "  .colab-df-quickchart-complete:disabled:hover {\n",
              "    background-color: var(--disabled-bg-color);\n",
              "    fill: var(--disabled-fill-color);\n",
              "    box-shadow: none;\n",
              "  }\n",
              "\n",
              "  .colab-df-spinner {\n",
              "    border: 2px solid var(--fill-color);\n",
              "    border-color: transparent;\n",
              "    border-bottom-color: var(--fill-color);\n",
              "    animation:\n",
              "      spin 1s steps(1) infinite;\n",
              "  }\n",
              "\n",
              "  @keyframes spin {\n",
              "    0% {\n",
              "      border-color: transparent;\n",
              "      border-bottom-color: var(--fill-color);\n",
              "      border-left-color: var(--fill-color);\n",
              "    }\n",
              "    20% {\n",
              "      border-color: transparent;\n",
              "      border-left-color: var(--fill-color);\n",
              "      border-top-color: var(--fill-color);\n",
              "    }\n",
              "    30% {\n",
              "      border-color: transparent;\n",
              "      border-left-color: var(--fill-color);\n",
              "      border-top-color: var(--fill-color);\n",
              "      border-right-color: var(--fill-color);\n",
              "    }\n",
              "    40% {\n",
              "      border-color: transparent;\n",
              "      border-right-color: var(--fill-color);\n",
              "      border-top-color: var(--fill-color);\n",
              "    }\n",
              "    60% {\n",
              "      border-color: transparent;\n",
              "      border-right-color: var(--fill-color);\n",
              "    }\n",
              "    80% {\n",
              "      border-color: transparent;\n",
              "      border-right-color: var(--fill-color);\n",
              "      border-bottom-color: var(--fill-color);\n",
              "    }\n",
              "    90% {\n",
              "      border-color: transparent;\n",
              "      border-bottom-color: var(--fill-color);\n",
              "    }\n",
              "  }\n",
              "</style>\n",
              "\n",
              "  <script>\n",
              "    async function quickchart(key) {\n",
              "      const quickchartButtonEl =\n",
              "        document.querySelector('#' + key + ' button');\n",
              "      quickchartButtonEl.disabled = true;  // To prevent multiple clicks.\n",
              "      quickchartButtonEl.classList.add('colab-df-spinner');\n",
              "      try {\n",
              "        const charts = await google.colab.kernel.invokeFunction(\n",
              "            'suggestCharts', [key], {});\n",
              "      } catch (error) {\n",
              "        console.error('Error during call to suggestCharts:', error);\n",
              "      }\n",
              "      quickchartButtonEl.classList.remove('colab-df-spinner');\n",
              "      quickchartButtonEl.classList.add('colab-df-quickchart-complete');\n",
              "    }\n",
              "    (() => {\n",
              "      let quickchartButtonEl =\n",
              "        document.querySelector('#df-fd633136-cd9c-4788-9a2e-bb60843b39dd button');\n",
              "      quickchartButtonEl.style.display =\n",
              "        google.colab.kernel.accessAllowed ? 'block' : 'none';\n",
              "    })();\n",
              "  </script>\n",
              "</div>\n",
              "\n",
              "    </div>\n",
              "  </div>\n"
            ],
            "application/vnd.google.colaboratory.intrinsic+json": {
              "type": "dataframe",
              "summary": "{\n  \"name\": \"df\",\n  \"rows\": 5,\n  \"fields\": [\n    {\n      \"column\": \"Negara ke-\",\n      \"properties\": {\n        \"dtype\": \"number\",\n        \"std\": 1,\n        \"min\": 36,\n        \"max\": 40,\n        \"num_unique_values\": 5,\n        \"samples\": [\n          37,\n          40,\n          38\n        ],\n        \"semantic_type\": \"\",\n        \"description\": \"\"\n      }\n    },\n    {\n      \"column\": \"X1\",\n      \"properties\": {\n        \"dtype\": \"number\",\n        \"std\": 8,\n        \"min\": 92,\n        \"max\": 110,\n        \"num_unique_values\": 2,\n        \"samples\": [\n          110,\n          92\n        ],\n        \"semantic_type\": \"\",\n        \"description\": \"\"\n      }\n    },\n    {\n      \"column\": \"X2\",\n      \"properties\": {\n        \"dtype\": \"number\",\n        \"std\": 0,\n        \"min\": 0,\n        \"max\": 1,\n        \"num_unique_values\": 2,\n        \"samples\": [\n          1,\n          0\n        ],\n        \"semantic_type\": \"\",\n        \"description\": \"\"\n      }\n    },\n    {\n      \"column\": \"Y\",\n      \"properties\": {\n        \"dtype\": \"number\",\n        \"std\": 1155,\n        \"min\": 7295,\n        \"max\": 10295,\n        \"num_unique_values\": 5,\n        \"samples\": [\n          7895,\n          10295\n        ],\n        \"semantic_type\": \"\",\n        \"description\": \"\"\n      }\n    }\n  ]\n}"
            }
          },
          "metadata": {},
          "execution_count": 85
        }
      ]
    },
    {
      "cell_type": "code",
      "source": [
        "df.info()"
      ],
      "metadata": {
        "colab": {
          "base_uri": "https://localhost:8080/"
        },
        "id": "UoomXyOgUGPg",
        "outputId": "890fc1bc-f41a-43a1-d0ec-929212e10294"
      },
      "execution_count": 86,
      "outputs": [
        {
          "output_type": "stream",
          "name": "stdout",
          "text": [
            "<class 'pandas.core.frame.DataFrame'>\n",
            "RangeIndex: 40 entries, 0 to 39\n",
            "Data columns (total 4 columns):\n",
            " #   Column      Non-Null Count  Dtype\n",
            "---  ------      --------------  -----\n",
            " 0   Negara ke-  40 non-null     int64\n",
            " 1   X1          40 non-null     int64\n",
            " 2   X2          40 non-null     int64\n",
            " 3   Y           40 non-null     int64\n",
            "dtypes: int64(4)\n",
            "memory usage: 1.4 KB\n"
          ]
        }
      ]
    },
    {
      "cell_type": "markdown",
      "source": [
        "# **Menghitung nilai korelasi pearson**"
      ],
      "metadata": {
        "id": "4JRxUWoDslp0"
      }
    },
    {
      "cell_type": "code",
      "source": [
        "# Hitung nilai korelasi pearson antara ukuran mesin dan harga jual\n",
        "from scipy.stats import pearsonr\n",
        "\n",
        "list1= df['X1']\n",
        "list2= df['Y']\n",
        "corr, _ = pearsonr(list1, list2)\n",
        "print('Nilai korelasi pearson antara ukuran mesin dan harga jual: %.5f' % corr)"
      ],
      "metadata": {
        "colab": {
          "base_uri": "https://localhost:8080/"
        },
        "id": "ZCNYJzdQrT9q",
        "outputId": "55e88038-be6f-4fb3-a23b-67432fe71a5b"
      },
      "execution_count": 87,
      "outputs": [
        {
          "output_type": "stream",
          "name": "stdout",
          "text": [
            "Nilai korelasi pearson antara ukuran mesin dan harga jual: 0.92747\n"
          ]
        }
      ]
    },
    {
      "cell_type": "code",
      "source": [
        "# Hitung nilai korelasi pearson antara design mobil dan harga jual\n",
        "from scipy.stats import pearsonr\n",
        "\n",
        "list1= df['X2']\n",
        "list2= df['Y']\n",
        "corr, _ = pearsonr(list1, list2)\n",
        "print('Nilai korelasi pearson antara design mobil dan harga jual: %.5f' % corr)"
      ],
      "metadata": {
        "colab": {
          "base_uri": "https://localhost:8080/"
        },
        "id": "VFFMaRBAVO1I",
        "outputId": "03192624-9383-4ced-b340-5b01099bb1ed"
      },
      "execution_count": 88,
      "outputs": [
        {
          "output_type": "stream",
          "name": "stdout",
          "text": [
            "Nilai korelasi pearson antara design mobil dan harga jual: 0.77206\n"
          ]
        }
      ]
    },
    {
      "cell_type": "code",
      "source": [
        "# Hitung nilai korelasi pearson antara ukuran mesin dan design mobil\n",
        "from scipy.stats import pearsonr\n",
        "\n",
        "list1= df['X1']\n",
        "list2= df['X2']\n",
        "corr, _ = pearsonr(list1, list2)\n",
        "print('Nilai korelasi pearson antara ukuran mesin dan design mobil: %.5f' % corr)"
      ],
      "metadata": {
        "colab": {
          "base_uri": "https://localhost:8080/"
        },
        "id": "GUJXz4kGU3PO",
        "outputId": "c43073ba-966d-4030-be02-ddf0f54d730c"
      },
      "execution_count": 89,
      "outputs": [
        {
          "output_type": "stream",
          "name": "stdout",
          "text": [
            "Nilai korelasi pearson antara ukuran mesin dan design mobil: 0.69676\n"
          ]
        }
      ]
    },
    {
      "cell_type": "markdown",
      "source": [
        "Berdasarkan nilai Korelasi Pearson antara Ukuran Mesin dan Desain Mobil  sebesar 0.69676, serta antara Desain Mobil dan Harga Jual Mobil 0.77206 dapat disimpulkan bahwa terdapat hubungan korelasi positif yang cukup kuat, karena nilai koefisien korelasi mendekati 1. Sementara itu, korelasi antara Ukuran Mesin dan Harga Jual Mobil menunjukkan nilai sebesar 0.92748, yang menunjukkan hubungan korelasi positif yang sangat kuat, karena nilai koefisien korelasi tersebut sangat mendekati 1."
      ],
      "metadata": {
        "id": "o5ZwsS6XsHK4"
      }
    },
    {
      "cell_type": "markdown",
      "source": [
        "# Menghitung korelasi biserial"
      ],
      "metadata": {
        "id": "BMD-HXBQbjCj"
      }
    },
    {
      "cell_type": "code",
      "source": [
        "# Hitung Korelasi Biserial Poin Desain Mobil VS Harga Jual Mobil\n",
        "import scipy.stats as stats\n",
        "\n",
        "correlation, pvalue = stats.pointbiserialr(df['X2'], df['Y'])\n",
        "print(f'PointbiserialrResult(correlation={correlation:.5f}, pvalue={pvalue:})')"
      ],
      "metadata": {
        "colab": {
          "base_uri": "https://localhost:8080/"
        },
        "id": "p1U879cxb3-a",
        "outputId": "a4d462e2-aa90-4bca-882b-4d78adbdd01e"
      },
      "execution_count": 90,
      "outputs": [
        {
          "output_type": "stream",
          "name": "stdout",
          "text": [
            "PointbiserialrResult(correlation=0.77206, pvalue=5.422379333800295e-09)\n"
          ]
        }
      ]
    },
    {
      "cell_type": "markdown",
      "source": [
        "Berdasarkan Korelasi Biserial Poin sebesar 0.77206 maka disimpulkan bahwa variabel Desain Mobil dengan variabel Harga Jual Mobil memiliki hubungan Korelasi yang kuat antara 2 variabel. Yang artinya perubahan dalam desain mobil memiliki pengaruh yang cukup besar terhadap harga jual mobil."
      ],
      "metadata": {
        "id": "NvCVPQSEcFtc"
      }
    },
    {
      "cell_type": "markdown",
      "source": [
        "# **Membentuk model regresi dummy**"
      ],
      "metadata": {
        "id": "b6IdS2DJtVDK"
      }
    },
    {
      "cell_type": "code",
      "source": [
        "# Memodelkan dengan regresi linear berganda\n",
        "\n",
        "import numpy as np\n",
        "import statsmodels.api as sm # Import statsmodels.api instead of statsmodels.formula.api\n",
        "import pandas as pd\n",
        "\n",
        "df_with_dummies = pd.get_dummies(data=df, columns=['X2'])\n",
        "x = df_with_dummies[['X1', 'X2_0', 'X2_1']]\n",
        "y = df_with_dummies['Y']\n",
        "reg_mod = 'Y ~ X1 + X2_1'\n",
        "\n",
        "model = sm.OLS.from_formula(formula=reg_mod, data=df_with_dummies).fit()\n",
        "print_model = model.summary()\n",
        "print(print_model)"
      ],
      "metadata": {
        "colab": {
          "base_uri": "https://localhost:8080/"
        },
        "id": "2kjAs-bEtarz",
        "outputId": "9c15f351-bae4-4512-8fe3-685c3a05c478"
      },
      "execution_count": 91,
      "outputs": [
        {
          "output_type": "stream",
          "name": "stdout",
          "text": [
            "                            OLS Regression Results                            \n",
            "==============================================================================\n",
            "Dep. Variable:                      Y   R-squared:                       0.891\n",
            "Model:                            OLS   Adj. R-squared:                  0.885\n",
            "Method:                 Least Squares   F-statistic:                     151.2\n",
            "Date:                Mon, 11 Nov 2024   Prob (F-statistic):           1.57e-18\n",
            "Time:                        09:34:24   Log-Likelihood:                -374.87\n",
            "No. Observations:                  40   AIC:                             755.7\n",
            "Df Residuals:                      37   BIC:                             760.8\n",
            "Df Model:                           2                                         \n",
            "Covariance Type:            nonrobust                                         \n",
            "================================================================================\n",
            "                   coef    std err          t      P>|t|      [0.025      0.975]\n",
            "--------------------------------------------------------------------------------\n",
            "Intercept    -1.027e+04   1870.696     -5.489      0.000   -1.41e+04   -6477.928\n",
            "X2_1[T.True]  4233.8511   1310.135      3.232      0.003    1579.266    6888.436\n",
            "X1             182.3231     18.226     10.004      0.000     145.394     219.252\n",
            "==============================================================================\n",
            "Omnibus:                        8.791   Durbin-Watson:                   1.191\n",
            "Prob(Omnibus):                  0.012   Jarque-Bera (JB):                8.392\n",
            "Skew:                           0.789   Prob(JB):                       0.0151\n",
            "Kurtosis:                       4.595   Cond. No.                         540.\n",
            "==============================================================================\n",
            "\n",
            "Notes:\n",
            "[1] Standard Errors assume that the covariance matrix of the errors is correctly specified.\n"
          ]
        }
      ]
    },
    {
      "cell_type": "code",
      "source": [
        "prediksi = model.predict(x)\n",
        "print(prediksi.head())"
      ],
      "metadata": {
        "colab": {
          "base_uri": "https://localhost:8080/"
        },
        "id": "Nnoeqyfls5YE",
        "outputId": "717d1734-1b13-4023-8aa3-8a0ccab52b9e"
      },
      "execution_count": 92,
      "outputs": [
        {
          "output_type": "stream",
          "name": "stdout",
          "text": [
            "0    17667.541001\n",
            "1    17667.541001\n",
            "2    21678.649850\n",
            "3    13838.755282\n",
            "4    18761.479778\n",
            "dtype: float64\n"
          ]
        }
      ]
    },
    {
      "cell_type": "code",
      "source": [
        "residual = model.resid\n",
        "print(residual.head())"
      ],
      "metadata": {
        "colab": {
          "base_uri": "https://localhost:8080/"
        },
        "id": "01mCEVAVv8zy",
        "outputId": "008b8bb9-9e66-4178-96f9-139ec2d0b4fa"
      },
      "execution_count": 93,
      "outputs": [
        {
          "output_type": "stream",
          "name": "stdout",
          "text": [
            "0   -4172.541001\n",
            "1   -1167.541001\n",
            "2   -5178.649850\n",
            "3     111.244718\n",
            "4   -1311.479778\n",
            "dtype: float64\n"
          ]
        }
      ]
    },
    {
      "cell_type": "markdown",
      "source": [
        "Soal Halaman 135 : Suatu showroom mobil ingin mengetahui apakah ukuran mesin dan desain mesin berpengaruh terhadap harga jual mobil. adapun design mobil merupakan jenis data kualitatif yang terdiri dari standar dan turbo. dimisalkan standar = 0 dan turbo = 1. Selain itu showroom tersebut ingin memprediksi berap aharga jual mobil jika design mobilnya standar dengan ukuran mesin 94"
      ],
      "metadata": {
        "id": "wgSUJgJmGcbf"
      }
    },
    {
      "cell_type": "code",
      "source": [
        "designmobil = 0\n",
        "ukuranmesin = 94\n",
        "koefisien = model.params\n",
        "intercept = model.params['Intercept']\n",
        "koefisienX1 = model.params['X1']\n",
        "koefisienX2 = model.params['X2_1[T.True]']\n",
        "\n",
        "print('Intercept :', intercept)\n",
        "print('Koefisien X1 (Ukuran Mesin):', koefisienX1)\n",
        "print('Koefisien X2 (Design Mobil):', koefisienX2)\n",
        "\n",
        "# Calculate the prediction once\n",
        "prediksi = intercept + koefisienX1 * ukuranmesin + koefisienX2 * designmobil\n",
        "print('Prediksi Harga Mobil:', prediksi)"
      ],
      "metadata": {
        "colab": {
          "base_uri": "https://localhost:8080/"
        },
        "id": "fvKnrADDFqQl",
        "outputId": "85411789-8745-491b-f6ae-0c8c3bef8718"
      },
      "execution_count": 94,
      "outputs": [
        {
          "output_type": "stream",
          "name": "stdout",
          "text": [
            "Intercept : -10268.316967728531\n",
            "Koefisien X1 (Ukuran Mesin): 182.32312948731231\n",
            "Koefisien X2 (Design Mobil): 4233.851135728866\n",
            "Prediksi Harga Mobil: 6870.0572040788265\n"
          ]
        }
      ]
    },
    {
      "cell_type": "markdown",
      "source": [
        "# **Melakukan Uji F**"
      ],
      "metadata": {
        "id": "MiFKadYkwmyI"
      }
    },
    {
      "cell_type": "code",
      "source": [
        "import numpy as np\n",
        "\n",
        "Ukuran_Mesin = df['X1']\n",
        "Desain_Mobil = df['X2']\n",
        "Harga_Jual_Mobil = df['Y']\n",
        "\n",
        "k = 2\n",
        "alpha = 0.05\n",
        "\n",
        "# Correcting the key to 'const' to access the intercept term\n",
        "intercept = model.params['Intercept']\n",
        "coef_Ukuran_Mesin = model.params['X1']\n",
        "coef_Desain_Mobil = model.params['X2_1[T.True]']\n",
        "\n",
        "# Menghitung rata-rata\n",
        "mean_Ukuran_Mesin = np.mean(Ukuran_Mesin)\n",
        "mean_Desain_Mobil = np.mean(Desain_Mobil)\n",
        "mean_Harga_Jual_Mobil = np.mean(Harga_Jual_Mobil)\n",
        "\n",
        "#Membuat prediksi nilai y(y_topi)\n",
        "y_topi = intercept + coef_Ukuran_Mesin * df['X1'] + coef_Desain_Mobil * df['X2']\n",
        "\n",
        "# Menghitung SST (Total Sum of Squares)\n",
        "SST = np.sum((y - mean_y) ** 2)\n",
        "SSE = np.sum((y - y_topi) ** 2)\n",
        "R_squared = 1 - (SSE / SST)\n",
        "R_squared_adj = 1 - (1-R_squared)*(len(y)-1)/(len(y)-k-1)\n",
        "\n",
        "print(f'Nilai dari SST: {SST:.5f}')\n",
        "print(f'Nilai dari SSE: {SSE:.5f}')\n",
        "print(f'Nilai dari Ytopi: {SST:.5f}')\n",
        "print(f'Nilai dari SSE: {SSE:.5f}')\n",
        "print(\" \")\n",
        "print(f'Nilai dari R-squared: {R_squared:.5f}')\n",
        "print(f'Nilai dari R-squared Adjusted: {R_squared_adj:.5f}')"
      ],
      "metadata": {
        "colab": {
          "base_uri": "https://localhost:8080/"
        },
        "id": "bh5tgAYhwVJF",
        "outputId": "88c43c5d-e67e-40f5-b110-d6c1678cb7c8"
      },
      "execution_count": 95,
      "outputs": [
        {
          "output_type": "stream",
          "name": "stdout",
          "text": [
            "Nilai dari SST: 2966988515.97500\n",
            "Nilai dari SSE: 323498002.54797\n",
            "Nilai dari Ytopi: 2966988515.97500\n",
            "Nilai dari SSE: 323498002.54797\n",
            " \n",
            "Nilai dari R-squared: 0.89097\n",
            "Nilai dari R-squared Adjusted: 0.88507\n"
          ]
        }
      ]
    },
    {
      "cell_type": "markdown",
      "source": [
        "Berdasarkan hasil UJI F, diperoleh nilai F-hitung sebesar 151.174, yang jauh lebih besar dibandingkan dengan nilai F-tabel sebesar 3.252 pada tingkat signifikansi 0.05. Dengan demikian, terdapat bukti yang cukup untuk menolak hipotesis null yang menyatakan bahwa tidak ada variabel independen yang berpengaruh signifikan terhadap variabel dependen. Oleh karena itu, dapat disimpulkan bahwa minimal ada satu variabel independen yang memiliki pengaruh signifikan terhadap variabel dependen dalam model ini. Hasil ini menunjukkan bahwa variabel-variabel independen yang digunakan berkontribusi secara signifikan terhadap variabel dependen."
      ],
      "metadata": {
        "id": "fMt0JW1AVpWY"
      }
    },
    {
      "cell_type": "markdown",
      "source": [
        "#**R Squared**"
      ],
      "metadata": {
        "id": "V-EhtL68X1jk"
      }
    },
    {
      "cell_type": "code",
      "source": [
        "import numpy as np\n",
        "\n",
        "Ukuran_Mesin = df['X1']\n",
        "Desain_Mobil = df['X2']\n",
        "Harga_Jual_Mobil = df['Y']\n",
        "\n",
        "k = 2\n",
        "alpha = 0.05\n",
        "\n",
        "intercept = model.params['Intercept']\n",
        "coef_Ukuran_Mesin = model.params['X1']\n",
        "coef_Desain_Mobil = model.params['X2_1[T.True]']\n",
        "\n",
        "# Menghitung rata-rata\n",
        "mean_Ukuran_Mesin = np.mean(Ukuran_Mesin)\n",
        "mean_Desain_Mobil = np.mean(Desain_Mobil)\n",
        "mean_Harga_Jual_Mobil = np.mean(Harga_Jual_Mobil)\n",
        "\n",
        "#Membuat prediksi nilai y(y_topi)\n",
        "y_topi = intercept + coef_Ukuran_Mesin * df['X1'] + coef_Desain_Mobil * df['X2']\n",
        "\n",
        "# Menghitung SST (Total Sum of Squares)\n",
        "SST = np.sum((y - mean_y) ** 2)\n",
        "SSE = np.sum((y - y_topi) ** 2)\n",
        "R_squared = 1 - (SSE / SST)\n",
        "R_squared_adj = 1 - (1-R_squared)*(len(y)-1)/(len(y)-k-1)\n",
        "\n",
        "print(f'Nilai dari SST: {SST:.5f}')\n",
        "print(f'Nilai dari SSE: {SSE:.5f}')\n",
        "print(f'Nilai dari Ytopi: {SST:.5f}')\n",
        "print(f'Nilai dari SSE: {SSE:.5f}')\n",
        "print(\" \")\n",
        "print(f'Nilai dari R-squared: {R_squared:.5f}')\n",
        "print(f'Nilai dari R-squared Adjusted: {R_squared_adj:.5f}')\n"
      ],
      "metadata": {
        "colab": {
          "base_uri": "https://localhost:8080/"
        },
        "id": "HwKj1miAX0F9",
        "outputId": "49742f89-7bcc-47fd-8b05-c1631d4fe247"
      },
      "execution_count": 96,
      "outputs": [
        {
          "output_type": "stream",
          "name": "stdout",
          "text": [
            "Nilai dari SST: 2966988515.97500\n",
            "Nilai dari SSE: 323498002.54797\n",
            "Nilai dari Ytopi: 2966988515.97500\n",
            "Nilai dari SSE: 323498002.54797\n",
            " \n",
            "Nilai dari R-squared: 0.89097\n",
            "Nilai dari R-squared Adjusted: 0.88507\n"
          ]
        }
      ]
    },
    {
      "cell_type": "code",
      "source": [
        "import numpy as np\n",
        "\n",
        "Ukuran_Mesin = df['X1']\n",
        "Desain_Mobil = df['X2']\n",
        "Harga_Jual_Mobil = df['Y']\n",
        "\n",
        "k = 2\n",
        "alpha = 0.05\n",
        "\n",
        "# The intercept term is likely named 'Intercept' instead of 'const'\n",
        "intercept = model.params['Intercept']\n",
        "coef_Ukuran_Mesin = model.params['X1']\n",
        "coef_Desain_Mobil = model.params['X2_1[T.True]']\n",
        "\n",
        "# Menghitung rata-rata\n",
        "mean_Ukuran_Mesin = np.mean(Ukuran_Mesin)\n",
        "mean_Desain_Mobil = np.mean(Desain_Mobil)\n",
        "mean_Harga_Jual_Mobil = np.mean(Harga_Jual_Mobil)\n",
        "\n",
        "#Membuat prediksi nilai y(y_topi)\n",
        "y_topi = intercept + coef_Ukuran_Mesin * df['X1'] + coef_Desain_Mobil * df['X2']\n",
        "\n",
        "# Menghitung SST (Total Sum of Squares)\n",
        "# Replace y with Harga_Jual_Mobil for consistency\n",
        "SST = np.sum((Harga_Jual_Mobil - mean_Harga_Jual_Mobil) ** 2)\n",
        "SSE = np.sum((Harga_Jual_Mobil - y_topi) ** 2)\n",
        "R_squared = 1 - (SSE / SST)\n",
        "R_squared_adj = 1 - (1-R_squared)*(len(Harga_Jual_Mobil)-1)/(len(Harga_Jual_Mobil)-k-1)\n",
        "\n",
        "print(f'Nilai dari SST: {SST:.5f}')\n",
        "print(f'Nilai dari SSE: {SSE:.5f}')\n",
        "print(f'Nilai dari Ytopi: {SST:.5f}') # This line seems to be intended to print y_topi but is printing SST\n",
        "print(f'Nilai dari SSE: {SSE:.5f}')\n",
        "print(\" \")\n",
        "print(f'Nilai dari R-squared: {R_squared:.5f}')\n",
        "print(f'Nilai dari R-squared Adjusted: {R_squared_adj:.5f}')"
      ],
      "metadata": {
        "colab": {
          "base_uri": "https://localhost:8080/"
        },
        "id": "Ug5XBkicjMzF",
        "outputId": "670bee32-6675-448d-de75-b88800032fa8"
      },
      "execution_count": 97,
      "outputs": [
        {
          "output_type": "stream",
          "name": "stdout",
          "text": [
            "Nilai dari SST: 2966988515.97500\n",
            "Nilai dari SSE: 323498002.54797\n",
            "Nilai dari Ytopi: 2966988515.97500\n",
            "Nilai dari SSE: 323498002.54797\n",
            " \n",
            "Nilai dari R-squared: 0.89097\n",
            "Nilai dari R-squared Adjusted: 0.88507\n"
          ]
        }
      ]
    },
    {
      "cell_type": "markdown",
      "source": [
        "Nilai yang didapatkan yaitu R Squared dan R Squared adjusted yang tinggi menunjukkan bahwa model ini sangat baik dalam menjelaskan variasi dalam harga jual mobil berdasarkan ukuran mesin dan design mobil."
      ],
      "metadata": {
        "id": "FNffY0TFYxTI"
      }
    },
    {
      "cell_type": "markdown",
      "source": [
        "#**Melakukan Uji T**"
      ],
      "metadata": {
        "id": "0NEWBSF-WEg8"
      }
    },
    {
      "cell_type": "code",
      "source": [
        "import numpy as np\n",
        "from scipy import stats\n",
        "import pandas as pd\n",
        "import statsmodels.api as sm\n",
        "\n",
        "# Menentukan hipotesis null dan hipotesis alternatif\n",
        "print(\"Menentukan hipotesis null dan hipotesis alternatif\")\n",
        "print(\"H0: B1 = B2 = variabel Desain Mobil berpengaruh signifikan terhadap Harga Jual Mobil.\")\n",
        "print(\"H1: variabel Desain Mobil tidak berpengaruh signifikan terhadap Harga Jual Mobil.\")\n",
        "print(\" \")\n",
        "\n",
        "# Memisahkan variabel independen dan dependen dari data\n",
        "Ukuran_Mesin = df['X1']\n",
        "Desain_Mobil = df['X2']\n",
        "Harga_Jual_Mobil = df['Y']\n",
        "\n",
        "# Menambahkan konstanta ke model regresi linier\n",
        "X = sm.add_constant(df[['X1', 'X2']])\n",
        "y = Harga_Jual_Mobil\n",
        "k = 2  # Jumlah variabel independen\n",
        "n = len(Ukuran_Mesin)  # Jumlah sampel\n",
        "\n",
        "# Menentukan tingkat signifikan\n",
        "alpha = 0.05\n",
        "print(\"Nilai tingkat signifikan:\", alpha)\n",
        "\n",
        "# Melakukan regresi linier berganda\n",
        "model = sm.OLS(y, X).fit()\n",
        "\n",
        "# Menyimpan parameter model\n",
        "intercept = model.params['const']\n",
        "coef_Ukuran_Mesin = model.params['X1']\n",
        "coef_Desain_Mobil = model.params['X2']\n",
        "\n",
        "# Menyimpan koefisien regresi dan standar errornya\n",
        "b1 = coef_Ukuran_Mesin\n",
        "b2 = coef_Desain_Mobil\n",
        "SE_b1 = model.bse['X1']  # Standar error untuk variabel Ukuran Mesin\n",
        "SE_b2 = model.bse['X2']  # Standar error untuk variabel Desain Mobil\n",
        "\n",
        "# Menghitung nilai T-hitung untuk masing-masing koefisien\n",
        "t_hit_b1 = b1 / SE_b1\n",
        "t_hit_b2 = b2 / SE_b2\n",
        "\n",
        "# Menentukan nilai T-tabel berdasarkan tingkat signifikansi dan derajat kebebasan\n",
        "T_tabel = stats.t.ppf(1 - alpha/2, n - k - 1)\n",
        "\n",
        "# Menampilkan hasil analisis\n",
        "print(\"\\nHasil Analisis T-Test untuk Masing-Masing Koefisien:\")\n",
        "print(f\"Nilai Koefisien regresi untuk Ukuran Mesin (B1): {b1}\")\n",
        "print(f\"Nilai Koefisien regresi untuk Desain Mobil (B2): {b2}\")\n",
        "print(f\"Standar Error B1: {SE_b1}\")\n",
        "print(f\"Standar Error B2: {SE_b2}\")\n",
        "print(f\"Nilai T-hitung untuk Ukuran Mesin (B1): {t_hit_b1:.5f}\")\n",
        "print(f\"Nilai T-hitung untuk Desain Mobil (B2): {t_hit_b2:.5f}\")\n",
        "print(f\"Nilai T-tabel: {T_tabel:.5f}\\n\")\n",
        "\n",
        "# Interpretasi hasil uji T untuk Ukuran Mesin\n",
        "print(\"Pengaruh Variabel Ukuran Mesin terhadap Harga Jual Mobil:\")\n",
        "if abs(t_hit_b1) > T_tabel:\n",
        "    print(f\"Dengan tingkat signifikansi {alpha}, nilai T-hitung untuk Ukuran Mesin sebesar {t_hit_b1:.5f} lebih besar dari T-tabel sebesar {T_tabel:.5f}.\")\n",
        "    print(\"Kesimpulannya, H0 ditolak, menunjukkan bahwa variabel Ukuran Mesin memiliki pengaruh yang signifikan terhadap Harga Jual Mobil.\")\n",
        "else:\n",
        "    print(f\"Dengan tingkat signifikansi {alpha}, nilai T-hitung untuk Ukuran Mesin sebesar {t_hit_b1:.5f} lebih kecil dari T-tabel sebesar {T_tabel:.5f}.\")\n",
        "    print(\"Oleh karena itu, H0 gagal ditolak, menunjukkan bahwa variabel Ukuran Mesin tidak memiliki pengaruh signifikan terhadap Harga Jual Mobil.\")\n",
        "\n",
        "# Interpretasi hasil uji T untuk Desain Mobil\n",
        "print(\"\\nPengaruh Variabel Desain Mobil terhadap Harga Jual Mobil:\")\n",
        "if abs(t_hit_b2) > T_tabel:\n",
        "    print(f\"Dengan tingkat signifikansi {alpha}, nilai T-hitung untuk Desain Mobil sebesar {t_hit_b2:.5f} lebih besar dari T-tabel sebesar {T_tabel:.5f}.\")\n",
        "    print(\"Kesimpulannya, H0 ditolak yang berarti variabel Desain Mobil berpengaruh signifikan terhadap Harga Jual Mobil.\")\n",
        "else:\n",
        "    print(f\"Dengan tingkat signifikansi {alpha}, nilai T-hitung untuk Desain Mobil sebesar {t_hit_b2:.5f} lebih kecil dari T-tabel sebesar {T_tabel:.5f}.\")\n",
        "    print(\"Oleh karena itu, H0 gagal ditolak yang berarti variabel Desain Mobil tidak berpengaruh signifikan terhadap Harga Jual Mobil.\")\n"
      ],
      "metadata": {
        "id": "IEJAN-clyr5S",
        "colab": {
          "base_uri": "https://localhost:8080/"
        },
        "outputId": "436a6eaa-c6d9-4ba7-bac1-2f3146bb8888"
      },
      "execution_count": 98,
      "outputs": [
        {
          "output_type": "stream",
          "name": "stdout",
          "text": [
            "Menentukan hipotesis null dan hipotesis alternatif\n",
            "H0: B1 = B2 = variabel Desain Mobil berpengaruh signifikan terhadap Harga Jual Mobil.\n",
            "H1: variabel Desain Mobil tidak berpengaruh signifikan terhadap Harga Jual Mobil.\n",
            " \n",
            "Nilai tingkat signifikan: 0.05\n",
            "\n",
            "Hasil Analisis T-Test untuk Masing-Masing Koefisien:\n",
            "Nilai Koefisien regresi untuk Ukuran Mesin (B1): 182.3231294873125\n",
            "Nilai Koefisien regresi untuk Desain Mobil (B2): 4233.851135728893\n",
            "Standar Error B1: 18.225783430900798\n",
            "Standar Error B2: 1310.1346787581856\n",
            "Nilai T-hitung untuk Ukuran Mesin (B1): 10.00358\n",
            "Nilai T-hitung untuk Desain Mobil (B2): 3.23162\n",
            "Nilai T-tabel: 2.02619\n",
            "\n",
            "Pengaruh Variabel Ukuran Mesin terhadap Harga Jual Mobil:\n",
            "Dengan tingkat signifikansi 0.05, nilai T-hitung untuk Ukuran Mesin sebesar 10.00358 lebih besar dari T-tabel sebesar 2.02619.\n",
            "Kesimpulannya, H0 ditolak, menunjukkan bahwa variabel Ukuran Mesin memiliki pengaruh yang signifikan terhadap Harga Jual Mobil.\n",
            "\n",
            "Pengaruh Variabel Desain Mobil terhadap Harga Jual Mobil:\n",
            "Dengan tingkat signifikansi 0.05, nilai T-hitung untuk Desain Mobil sebesar 3.23162 lebih besar dari T-tabel sebesar 2.02619.\n",
            "Kesimpulannya, H0 ditolak yang berarti variabel Desain Mobil berpengaruh signifikan terhadap Harga Jual Mobil.\n"
          ]
        }
      ]
    },
    {
      "cell_type": "markdown",
      "source": [
        "Berdasarkan hasil uji T, hipotesis yang diuji menyatakan bahwa variabel Ukuran Mesin (B1) dan Desain Mobil (B2) berpengaruh terhadap Harga Jual Mobil. Dari hasil uji T, diperoleh nilai T-hitung untuk Ukuran Mesin sebesar 10.00358, yang lebih besar dari nilai T-tabel sebesar 2.02619 pada tingkat signifikansi 0.05. Hal ini menunjukkan bahwa Ukuran Mesin memiliki pengaruh yang signifikan terhadap Harga Jual Mobil, sehingga hipotesis nol (H0) ditolak. Begitu pula, untuk variabel Desain Mobil, nilai T-hitung sebesar 3.23162 juga lebih besar dari T-tabel, yang berarti variabel ini juga berpengaruh signifikan terhadap Harga Jual Mobil. Dengan demikian, dapat disimpulkan bahwa baik Ukuran Mesin maupun Desain Mobil berkontribusi secara signifikan dalam menentukan Harga Jual Mobil."
      ],
      "metadata": {
        "id": "XEGvnqWng-Jy"
      }
    },
    {
      "cell_type": "markdown",
      "source": [
        "# **Uji Asumsi Regresi**"
      ],
      "metadata": {
        "id": "hAs7fZURJKKO"
      }
    },
    {
      "cell_type": "code",
      "source": [
        "import scipy.stats as stats\n",
        "import matplotlib.pyplot as plt\n",
        "import statsmodels.api as sm\n",
        "fig = sm.qqplot(residual, stats.t, fit=True, line='45')\n",
        "plt.show()"
      ],
      "metadata": {
        "id": "ovM1uY6WJOZN",
        "colab": {
          "base_uri": "https://localhost:8080/",
          "height": 449
        },
        "outputId": "0ab7c8f7-0b5a-475f-d913-f89128627b17"
      },
      "execution_count": 99,
      "outputs": [
        {
          "output_type": "display_data",
          "data": {
            "text/plain": [
              "<Figure size 640x480 with 1 Axes>"
            ],
            "image/png": "[encoded data removed]"
          },
          "metadata": {}
        }
      ]
    },
    {
      "cell_type": "markdown",
      "source": [
        "# **Memeriksa Asumsi Residual Tidak Terjadi Autokorelasi**"
      ],
      "metadata": {
        "id": "qWbZ_YXLJrXh"
      }
    },
    {
      "cell_type": "code",
      "source": [
        "import matplotlib.pyplot as plt\n",
        "\n",
        "# Ensure urutan_pengamatan has the same length as residual\n",
        "urutan_pengamatan = pd.Series(range(1, len(residual) + 1)) # Generate a sequence from 1 to the length of 'residual'\n",
        "\n",
        "plt.scatter(urutan_pengamatan, residual);\n",
        "plt.axhline(0, color='r')\n",
        "plt.xlabel('Urutan Pengamatan');\n",
        "plt.ylabel('Residual');\n",
        "plt.xlim()"
      ],
      "metadata": {
        "id": "3Qz4p7qhJg6K",
        "colab": {
          "base_uri": "https://localhost:8080/",
          "height": 466
        },
        "outputId": "81007a94-8d75-4177-8f34-8bb579af86b6"
      },
      "execution_count": 100,
      "outputs": [
        {
          "output_type": "execute_result",
          "data": {
            "text/plain": [
              "(-0.9500000000000002, 41.95)"
            ]
          },
          "metadata": {},
          "execution_count": 100
        },
        {
          "output_type": "display_data",
          "data": {
            "text/plain": [
              "<Figure size 640x480 with 1 Axes>"
            ],
            "image/png": "[encoded data removed]"
          },
          "metadata": {}
        }
      ]
    },
    {
      "cell_type": "markdown",
      "source": [
        "# **Memeriksa asumsi residual tidak terjadi heterokesdastisitas**"
      ],
      "metadata": {
        "id": "J3YcMJ_qLHRa"
      }
    },
    {
      "cell_type": "code",
      "source": [
        "influence = model.get_influence()\n",
        "std_residual = influence.resid_studentized_internal\n",
        "# Calculate or define 'prediksi' with the same length as 'std_residual'\n",
        "prediksi = model.predict()  # Assuming 'model' is your fitted regression model\n",
        "#Alternatively, you could use:\n",
        "#prediksi = model.fittedvalues # This would grab the fitted values from the model\n",
        "\n",
        "plt.scatter(prediksi, std_residual);\n",
        "plt.axhline(0, color='r')\n",
        "plt.xlabel('Prediksi');\n",
        "plt.ylabel('Standardized residual');\n",
        "plt.xlim()"
      ],
      "metadata": {
        "id": "-YmngAnZJ8yC",
        "colab": {
          "base_uri": "https://localhost:8080/",
          "height": 466
        },
        "outputId": "9afbd4ba-650c-4935-94d3-c36c8eecc4d7"
      },
      "execution_count": 101,
      "outputs": [
        {
          "output_type": "execute_result",
          "data": {
            "text/plain": [
              "(-707.4897839949545, 33631.951945841305)"
            ]
          },
          "metadata": {},
          "execution_count": 101
        },
        {
          "output_type": "display_data",
          "data": {
            "text/plain": [
              "<Figure size 640x480 with 1 Axes>"
            ],
            "image/png": "[encoded data removed]"
          },
          "metadata": {}
        }
      ]
    },
    {
      "cell_type": "markdown",
      "source": [
        "##Memeriksa asumsi residual berdistribusi normal"
      ],
      "metadata": {
        "id": "SdDAbVjlCZcp"
      }
    },
    {
      "cell_type": "code",
      "source": [
        "# Pengujian jarque\n",
        "from statsmodels.compat import lzip\n",
        "import statsmodels.formula.api as smf\n",
        "import statsmodels.stats.api as sms\n",
        "name = ['Jarque-Bera', 'Chi^2 two-tail prob.', 'Skew', 'Kurtosis']\n",
        "test = sms.jarque_bera(residual)\n",
        "lzip(name, test)"
      ],
      "metadata": {
        "id": "V8eCRGXCLzM_",
        "colab": {
          "base_uri": "https://localhost:8080/"
        },
        "outputId": "2b317759-a052-4989-b73a-e23981bb8fbe"
      },
      "execution_count": 102,
      "outputs": [
        {
          "output_type": "execute_result",
          "data": {
            "text/plain": [
              "[('Jarque-Bera', 8.392193985676881),\n",
              " ('Chi^2 two-tail prob.', 0.015054219030238427),\n",
              " ('Skew', 0.7894013958103061),\n",
              " ('Kurtosis', 4.594584001104078)]"
            ]
          },
          "metadata": {},
          "execution_count": 102
        }
      ]
    },
    {
      "cell_type": "markdown",
      "source": [
        "#Pengujian durbin-Watson"
      ],
      "metadata": {
        "id": "zdL_jNXNO0Tu"
      }
    },
    {
      "cell_type": "code",
      "source": [
        "from statsmodels.stats.stattools import durbin_watson\n",
        "dw = durbin_watson(model.resid)\n",
        "print(f\"Durbin-Watson Statistic: {dw}\")"
      ],
      "metadata": {
        "id": "X788BGLsCyQo",
        "colab": {
          "base_uri": "https://localhost:8080/"
        },
        "outputId": "0633a3e6-b72b-4a8b-9049-e988d5979cc3"
      },
      "execution_count": 103,
      "outputs": [
        {
          "output_type": "stream",
          "name": "stdout",
          "text": [
            "Durbin-Watson Statistic: 1.1912358784180832\n"
          ]
        }
      ]
    },
    {
      "cell_type": "markdown",
      "source": [
        "##Memeriksa asumsi residual tidak terjadi heteroskedastisitas"
      ],
      "metadata": {
        "id": "15jLeWs2PbkN"
      }
    },
    {
      "cell_type": "code",
      "source": [
        "# Pengujian Breush Pagan\n",
        "from statsmodels.compat import lzip\n",
        "import statsmodels.stats.api as sms\n",
        "names = ['Lagrange multiplier statistic', 'p-value', 'f-value', 'f p-value']\n",
        "test = sms.het_breuschpagan(model.resid, model.model.exog)\n",
        "lzip(names, test)"
      ],
      "metadata": {
        "id": "lOZjQlPzPUQ7",
        "colab": {
          "base_uri": "https://localhost:8080/"
        },
        "outputId": "b20ba29c-8076-4bc6-cb6d-10220c179f3b"
      },
      "execution_count": 106,
      "outputs": [
        {
          "output_type": "execute_result",
          "data": {
            "text/plain": [
              "[('Lagrange multiplier statistic', 11.518745971314615),\n",
              " ('p-value', 0.003153088010166585),\n",
              " ('f-value', 7.482002030342352),\n",
              " ('f p-value', 0.0018673840565722008)]"
            ]
          },
          "metadata": {},
          "execution_count": 106
        }
      ]
    },
    {
      "cell_type": "markdown",
      "source": [
        "# Uji VIF"
      ],
      "metadata": {
        "id": "_RD-LDoPllOp"
      }
    },
    {
      "cell_type": "code",
      "source": [
        "from statsmodels.stats .outliers_influence import variance_inflation_factor\n",
        "# himpunan variabel independen\n",
        "X = df[['X1', 'X2']]\n",
        "vif_data = pd.DataFrame()\n",
        "vif_data[\"feature\"] = X.columns\n",
        "\n",
        "vif_data[\"VIF\"] = [variance_inflation_factor(X.values, i) for i in range(len(X.columns))]\n",
        "print(vif_data)"
      ],
      "metadata": {
        "colab": {
          "base_uri": "https://localhost:8080/"
        },
        "id": "_uU6H4QIlRte",
        "outputId": "671cd7a5-4a16-4e15-d903-1bd4691aae1d"
      },
      "execution_count": 107,
      "outputs": [
        {
          "output_type": "stream",
          "name": "stdout",
          "text": [
            "  feature      VIF\n",
            "0      X1  2.67189\n",
            "1      X2  2.67189\n"
          ]
        }
      ]
    },
    {
      "cell_type": "markdown",
      "source": [
        "# Menginterpretasikan Model"
      ],
      "metadata": {
        "id": "RAn5lDE-mAdb"
      }
    },
    {
      "cell_type": "markdown",
      "source": [
        "Y topi = Beta0 + Beta1X1 + Beta2X2\n",
        "\n",
        "Y topi = −10270+182.32×X1+4233.85×X2\n",
        "\n",
        "- Untuk estimator B0 tidak di interpretasikan karina tidak terdapat nilai variabel yang sama dengan 0\n",
        "- Untuk estimator B1 (ukuran mesin) adalah setiap pertambahan satuan ukuran mesin yang ada akan menambah harga jual mobil\n",
        "- untuk estimator B2 (design mobil) adalah setiap pertambahan satuan design mobil yang dimiliki akan menambah harga jual mobil"
      ],
      "metadata": {
        "id": "JCO_vd7CmpAE"
      }
    },
    {
      "cell_type": "code",
      "source": [],
      "metadata": {
        "id": "alvHzr2dn8oa"
      },
      "execution_count": null,
      "outputs": []
    }
  ]
}